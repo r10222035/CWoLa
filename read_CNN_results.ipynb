{
 "cells": [
  {
   "cell_type": "code",
   "execution_count": 1,
   "metadata": {},
   "outputs": [],
   "source": [
    "import numpy as np\n",
    "import pandas as pd"
   ]
  },
  {
   "cell_type": "code",
   "execution_count": 2,
   "metadata": {},
   "outputs": [],
   "source": [
    "file_name = './multi-class_CWoLa_training_results.csv'\n",
    "df = pd.read_csv(file_name)"
   ]
  },
  {
   "cell_type": "code",
   "execution_count": 3,
   "metadata": {},
   "outputs": [],
   "source": [
    "def print_ACC(ACC, ACCs):\n",
    "    print(f'ACC: {ACC.mean():.3f} ± {ACC.std():.3f}')\n",
    "    ACCs_mean = ACCs.mean(axis=0)\n",
    "    ACCs_std = ACCs.std(axis=0)\n",
    "    print(f'ACC, A: {ACCs_mean[0]:.3f} ± {ACCs_std[0]:.3f}')\n",
    "    print(f'ACC, B: {ACCs_mean[1]:.3f} ± {ACCs_std[1]:.3f}')\n",
    "    print(f'ACC, C: {ACCs_mean[2]:.3f} ± {ACCs_std[2]:.3f}')\n",
    "    print(f'${ACCs_mean[0]:.3f} \\pm {ACCs_std[0]:.3f}$ & ${ACCs_mean[1]:.3f} \\pm {ACCs_std[1]:.3f}$ & ${ACCs_mean[2]:.3f} \\pm {ACCs_std[2]:.3f}$ & ${ACC.mean():.3f} \\pm {ACC.std():.3f}$')"
   ]
  },
  {
   "cell_type": "markdown",
   "metadata": {},
   "source": [
    "# Ambiguous"
   ]
  },
  {
   "cell_type": "code",
   "execution_count": 4,
   "metadata": {},
   "outputs": [
    {
     "name": "stdout",
     "output_type": "stream",
     "text": [
      "Max argument\n",
      "ACC: 0.538 ± 0.027\n",
      "ACC, A: 0.742 ± 0.035\n",
      "ACC, B: 0.164 ± 0.100\n",
      "ACC, C: 0.707 ± 0.091\n",
      "$0.742 \\pm 0.035$ & $0.164 \\pm 0.100$ & $0.707 \\pm 0.091$ & $0.538 \\pm 0.027$\n"
     ]
    }
   ],
   "source": [
    "ACC = df[df['Case'] == 'Ambiguous']['Argmax: ACC']\n",
    "ACCs = df[df['Case'] == 'Ambiguous']['Argmax: ACCs']\n",
    "ACCs = np.array([eval(x) for x in ACCs])\n",
    "\n",
    "print('Max argument')\n",
    "print_ACC(ACC, ACCs)"
   ]
  },
  {
   "cell_type": "code",
   "execution_count": 5,
   "metadata": {},
   "outputs": [
    {
     "name": "stdout",
     "output_type": "stream",
     "text": [
      "K-means clustering\n",
      "ACC: 0.666 ± 0.041\n",
      "ACC, A: 0.868 ± 0.028\n",
      "ACC, B: 0.534 ± 0.077\n",
      "ACC, C: 0.595 ± 0.050\n",
      "$0.868 \\pm 0.028$ & $0.534 \\pm 0.077$ & $0.595 \\pm 0.050$ & $0.666 \\pm 0.041$\n"
     ]
    }
   ],
   "source": [
    "ACC = df[df['Case'] == 'Ambiguous']['K-means: ACC']\n",
    "ACCs = df[df['Case'] == 'Ambiguous']['K-means: ACCs']\n",
    "ACCs = np.array([eval(x) for x in ACCs])\n",
    "\n",
    "print('K-means clustering')\n",
    "print_ACC(ACC, ACCs)"
   ]
  },
  {
   "cell_type": "code",
   "execution_count": 6,
   "metadata": {},
   "outputs": [
    {
     "name": "stdout",
     "output_type": "stream",
     "text": [
      "Spectral clustering\n",
      "ACC: 0.702 ± 0.061\n",
      "ACC, A: 0.823 ± 0.114\n",
      "ACC, B: 0.625 ± 0.096\n",
      "ACC, C: 0.656 ± 0.173\n",
      "$0.823 \\pm 0.114$ & $0.625 \\pm 0.096$ & $0.656 \\pm 0.173$ & $0.702 \\pm 0.061$\n"
     ]
    }
   ],
   "source": [
    "ACC = df[df['Case'] == 'Ambiguous']['Spectral: ACC']\n",
    "ACCs = df[df['Case'] == 'Ambiguous']['Spectral: ACCs']\n",
    "ACCs = np.array([eval(x) for x in ACCs])\n",
    "\n",
    "print('Spectral clustering')\n",
    "print_ACC(ACC, ACCs)"
   ]
  },
  {
   "cell_type": "markdown",
   "metadata": {},
   "source": [
    "# Dominated 1"
   ]
  },
  {
   "cell_type": "code",
   "execution_count": 7,
   "metadata": {},
   "outputs": [
    {
     "name": "stdout",
     "output_type": "stream",
     "text": [
      "Max argument\n",
      "ACC: 0.821 ± 0.003\n",
      "ACC, A: 0.755 ± 0.040\n",
      "ACC, B: 0.824 ± 0.025\n",
      "ACC, C: 0.884 ± 0.021\n",
      "$0.755 \\pm 0.040$ & $0.824 \\pm 0.025$ & $0.884 \\pm 0.021$ & $0.821 \\pm 0.003$\n"
     ]
    }
   ],
   "source": [
    "ACC = df[df['Case'] == 'Dominated 1']['Argmax: ACC']\n",
    "ACCs = df[df['Case'] == 'Dominated 1']['Argmax: ACCs']\n",
    "ACCs = np.array([eval(x) for x in ACCs])\n",
    "\n",
    "print('Max argument')\n",
    "print_ACC(ACC, ACCs)"
   ]
  },
  {
   "cell_type": "code",
   "execution_count": 8,
   "metadata": {},
   "outputs": [
    {
     "name": "stdout",
     "output_type": "stream",
     "text": [
      "K-means clustering\n",
      "ACC: 0.823 ± 0.003\n",
      "ACC, A: 0.784 ± 0.020\n",
      "ACC, B: 0.828 ± 0.017\n",
      "ACC, C: 0.857 ± 0.017\n",
      "$0.784 \\pm 0.020$ & $0.828 \\pm 0.017$ & $0.857 \\pm 0.017$ & $0.823 \\pm 0.003$\n"
     ]
    }
   ],
   "source": [
    "ACC = df[df['Case'] == 'Dominated 1']['K-means: ACC']\n",
    "ACCs = df[df['Case'] == 'Dominated 1']['K-means: ACCs']\n",
    "ACCs = np.array([eval(x) for x in ACCs])\n",
    "\n",
    "print('K-means clustering')\n",
    "print_ACC(ACC, ACCs)"
   ]
  },
  {
   "cell_type": "code",
   "execution_count": 9,
   "metadata": {},
   "outputs": [
    {
     "name": "stdout",
     "output_type": "stream",
     "text": [
      "Spectral clustering\n",
      "ACC: 0.807 ± 0.005\n",
      "ACC, A: 0.813 ± 0.029\n",
      "ACC, B: 0.746 ± 0.019\n",
      "ACC, C: 0.864 ± 0.019\n",
      "$0.813 \\pm 0.029$ & $0.746 \\pm 0.019$ & $0.864 \\pm 0.019$ & $0.807 \\pm 0.005$\n"
     ]
    }
   ],
   "source": [
    "ACC = df[df['Case'] == 'Dominated 1']['Spectral: ACC']\n",
    "ACCs = df[df['Case'] == 'Dominated 1']['Spectral: ACCs']\n",
    "ACCs = np.array([eval(x) for x in ACCs])\n",
    "\n",
    "print('Spectral clustering')\n",
    "print_ACC(ACC, ACCs)"
   ]
  }
 ],
 "metadata": {
  "kernelspec": {
   "display_name": "jupyter",
   "language": "python",
   "name": "python3"
  },
  "language_info": {
   "codemirror_mode": {
    "name": "ipython",
    "version": 3
   },
   "file_extension": ".py",
   "mimetype": "text/x-python",
   "name": "python",
   "nbconvert_exporter": "python",
   "pygments_lexer": "ipython3",
   "version": "3.8.16"
  }
 },
 "nbformat": 4,
 "nbformat_minor": 2
}
