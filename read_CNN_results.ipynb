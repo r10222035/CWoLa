{
 "cells": [
  {
   "cell_type": "code",
   "execution_count": 1,
   "metadata": {},
   "outputs": [],
   "source": [
    "import numpy as np\n",
    "import pandas as pd"
   ]
  },
  {
   "cell_type": "code",
   "execution_count": 2,
   "metadata": {},
   "outputs": [],
   "source": [
    "file_name = './multi-class_CWoLa_training_results.csv'\n",
    "df = pd.read_csv(file_name)"
   ]
  },
  {
   "cell_type": "code",
   "execution_count": 3,
   "metadata": {},
   "outputs": [],
   "source": [
    "def print_ACC(ACC, ACCs):\n",
    "    print(f'ACC: {ACC.mean():.3f} ± {ACC.std():.3f}')\n",
    "    ACCs_mean = ACCs.mean(axis=0)\n",
    "    ACCs_std = ACCs.std(axis=0)\n",
    "    print(f'ACC, A: {ACCs_mean[0]:.3f} ± {ACCs_std[0]:.3f}')\n",
    "    print(f'ACC, B: {ACCs_mean[1]:.3f} ± {ACCs_std[1]:.3f}')\n",
    "    print(f'ACC, C: {ACCs_mean[2]:.3f} ± {ACCs_std[2]:.3f}')\n",
    "    print(f'${ACCs_mean[0]:.3f} \\pm {ACCs_std[0]:.3f}$ & ${ACCs_mean[1]:.3f} \\pm {ACCs_std[1]:.3f}$ & ${ACCs_mean[2]:.3f} \\pm {ACCs_std[2]:.3f}$ & ${ACC.mean():.3f} \\pm {ACC.std():.3f}$')"
   ]
  },
  {
   "cell_type": "code",
   "execution_count": 4,
   "metadata": {},
   "outputs": [
    {
     "name": "stdout",
     "output_type": "stream",
     "text": [
      "Max argument\n",
      "ACC: 0.538 ± 0.027\n",
      "ACC, A: 0.742 ± 0.035\n",
      "ACC, B: 0.164 ± 0.100\n",
      "ACC, C: 0.707 ± 0.091\n",
      "$0.742 \\pm 0.035$ & $0.164 \\pm 0.100$ & $0.707 \\pm 0.091$ & $0.538 \\pm 0.027$\n"
     ]
    }
   ],
   "source": [
    "ACC = df['Argmax: ACC']\n",
    "ACCs = df['Argmax: ACCs']\n",
    "ACCs = np.array([eval(x) for x in ACCs])\n",
    "\n",
    "print('Max argument')\n",
    "print_ACC(ACC, ACCs)"
   ]
  },
  {
   "cell_type": "code",
   "execution_count": 5,
   "metadata": {},
   "outputs": [
    {
     "name": "stdout",
     "output_type": "stream",
     "text": [
      "K-means clustering\n",
      "ACC: 0.666 ± 0.041\n",
      "ACC, A: 0.868 ± 0.028\n",
      "ACC, B: 0.534 ± 0.077\n",
      "ACC, C: 0.595 ± 0.050\n",
      "$0.868 \\pm 0.028$ & $0.534 \\pm 0.077$ & $0.595 \\pm 0.050$ & $0.666 \\pm 0.041$\n"
     ]
    }
   ],
   "source": [
    "ACC = df['K-means: ACC']\n",
    "ACCs = df['K-means: ACCs']\n",
    "ACCs = np.array([eval(x) for x in ACCs])\n",
    "\n",
    "print('K-means clustering')\n",
    "print_ACC(ACC, ACCs)"
   ]
  },
  {
   "cell_type": "code",
   "execution_count": 6,
   "metadata": {},
   "outputs": [
    {
     "name": "stdout",
     "output_type": "stream",
     "text": [
      "Spectral clustering\n",
      "ACC: 0.702 ± 0.061\n",
      "ACC, A: 0.823 ± 0.114\n",
      "ACC, B: 0.625 ± 0.096\n",
      "ACC, C: 0.656 ± 0.173\n",
      "$0.823 \\pm 0.114$ & $0.625 \\pm 0.096$ & $0.656 \\pm 0.173$ & $0.702 \\pm 0.061$\n"
     ]
    }
   ],
   "source": [
    "ACC = df['Spectral: ACC']\n",
    "ACCs = df['Spectral: ACCs']\n",
    "ACCs = np.array([eval(x) for x in ACCs])\n",
    "\n",
    "print('Spectral clustering')\n",
    "print_ACC(ACC, ACCs)"
   ]
  }
 ],
 "metadata": {
  "kernelspec": {
   "display_name": "jupyter",
   "language": "python",
   "name": "python3"
  },
  "language_info": {
   "codemirror_mode": {
    "name": "ipython",
    "version": 3
   },
   "file_extension": ".py",
   "mimetype": "text/x-python",
   "name": "python",
   "nbconvert_exporter": "python",
   "pygments_lexer": "ipython3",
   "version": "3.8.16"
  }
 },
 "nbformat": 4,
 "nbformat_minor": 2
}
