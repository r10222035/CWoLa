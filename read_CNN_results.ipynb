{
 "cells": [
  {
   "cell_type": "code",
   "execution_count": 1,
   "metadata": {},
   "outputs": [],
   "source": [
    "import pandas as pd\n",
    "import numpy as np"
   ]
  },
  {
   "cell_type": "code",
   "execution_count": 2,
   "metadata": {},
   "outputs": [],
   "source": [
    "file_name = './multi-class_CWoLa_training_results.csv'\n",
    "df = pd.read_csv(file_name)"
   ]
  },
  {
   "cell_type": "code",
   "execution_count": 3,
   "metadata": {},
   "outputs": [
    {
     "name": "stdout",
     "output_type": "stream",
     "text": [
      "Max argument\n",
      "ACC: 0.539 ± 0.029\n",
      "ACC, A: 0.769 ± 0.039\n",
      "ACC, B: 0.327 ± 0.210\n",
      "ACC, C: 0.521 ± 0.249\n"
     ]
    }
   ],
   "source": [
    "ACC = df['Argmax: ACC']\n",
    "ACCs = df['Argmax: ACCs']\n",
    "ACCs = np.array([eval(x) for x in ACCs])\n",
    "\n",
    "print('Max argument')\n",
    "\n",
    "print(f'ACC: {ACC.mean():.3f} ± {ACC.std():.3f}')\n",
    "print(f'ACC, A: {ACCs.mean(axis=0)[0]:.3f} ± {ACCs.std(axis=0)[0]:.3f}')\n",
    "print(f'ACC, B: {ACCs.mean(axis=0)[1]:.3f} ± {ACCs.std(axis=0)[1]:.3f}')\n",
    "print(f'ACC, C: {ACCs.mean(axis=0)[2]:.3f} ± {ACCs.std(axis=0)[2]:.3f}')"
   ]
  },
  {
   "cell_type": "code",
   "execution_count": 4,
   "metadata": {},
   "outputs": [
    {
     "name": "stdout",
     "output_type": "stream",
     "text": [
      "K-means clustering\n",
      "ACC: 0.652 ± 0.068\n",
      "ACC, A: 0.882 ± 0.018\n",
      "ACC, B: 0.535 ± 0.101\n",
      "ACC, C: 0.540 ± 0.093\n"
     ]
    }
   ],
   "source": [
    "ACC = df['K-means: ACC']\n",
    "ACCs = df['K-means: ACCs']\n",
    "ACCs = np.array([eval(x) for x in ACCs])\n",
    "\n",
    "print('K-means clustering')\n",
    "\n",
    "print(f'ACC: {ACC.mean():.3f} ± {ACC.std():.3f}')\n",
    "print(f'ACC, A: {ACCs.mean(axis=0)[0]:.3f} ± {ACCs.std(axis=0)[0]:.3f}')\n",
    "print(f'ACC, B: {ACCs.mean(axis=0)[1]:.3f} ± {ACCs.std(axis=0)[1]:.3f}')\n",
    "print(f'ACC, C: {ACCs.mean(axis=0)[2]:.3f} ± {ACCs.std(axis=0)[2]:.3f}')"
   ]
  },
  {
   "cell_type": "code",
   "execution_count": 5,
   "metadata": {},
   "outputs": [
    {
     "name": "stdout",
     "output_type": "stream",
     "text": [
      "Spectral clustering\n",
      "ACC: 0.665 ± 0.085\n",
      "ACC, A: 0.742 ± 0.091\n",
      "ACC, B: 0.588 ± 0.197\n",
      "ACC, C: 0.665 ± 0.173\n"
     ]
    }
   ],
   "source": [
    "ACC = df['Spectral: ACC']\n",
    "ACCs = df['Spectral: ACCs']\n",
    "ACCs = np.array([eval(x) for x in ACCs])\n",
    "\n",
    "print('Spectral clustering')\n",
    "\n",
    "print(f'ACC: {ACC.mean():.3f} ± {ACC.std():.3f}')\n",
    "print(f'ACC, A: {ACCs.mean(axis=0)[0]:.3f} ± {ACCs.std(axis=0)[0]:.3f}')\n",
    "print(f'ACC, B: {ACCs.mean(axis=0)[1]:.3f} ± {ACCs.std(axis=0)[1]:.3f}')\n",
    "print(f'ACC, C: {ACCs.mean(axis=0)[2]:.3f} ± {ACCs.std(axis=0)[2]:.3f}')"
   ]
  }
 ],
 "metadata": {
  "kernelspec": {
   "display_name": "jupyter",
   "language": "python",
   "name": "python3"
  },
  "language_info": {
   "codemirror_mode": {
    "name": "ipython",
    "version": 3
   },
   "file_extension": ".py",
   "mimetype": "text/x-python",
   "name": "python",
   "nbconvert_exporter": "python",
   "pygments_lexer": "ipython3",
   "version": "3.8.16"
  }
 },
 "nbformat": 4,
 "nbformat_minor": 2
}
