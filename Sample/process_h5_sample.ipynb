{
 "cells": [
  {
   "cell_type": "code",
   "execution_count": 1,
   "metadata": {},
   "outputs": [],
   "source": [
    "import os\n",
    "import h5py\n",
    "import shutil\n",
    "import numpy as np\n",
    "\n",
    "from pathlib import Path\n",
    "from utils import phi_shift_and_flipping\n",
    "\n",
    "MAX_CONSTI = {\n",
    "    'Tower': 200,\n",
    "    'Track': 100,\n",
    "    'Lepton': 2,\n",
    "}"
   ]
  },
  {
   "cell_type": "markdown",
   "metadata": {},
   "source": [
    "# $\\phi$ shifting and flipping"
   ]
  },
  {
   "cell_type": "code",
   "execution_count": 2,
   "metadata": {},
   "outputs": [],
   "source": [
    "def to_event_image_h5(h5_path, out_h5):\n",
    "    \n",
    "    out_h5 = Path(out_h5)\n",
    "    out_h5.parent.mkdir(parents=True, exist_ok=True)\n",
    "\n",
    "    shutil.copyfile(h5_path, out_h5)\n",
    "\n",
    "    with h5py.File(out_h5, 'a') as f_out:\n",
    "        print(out_h5)\n",
    "\n",
    "        event_pt = np.concatenate([f_out['Tower/pt'][:], f_out['Track/pt'][:], f_out['Lepton/pt'][:]], axis=1)\n",
    "        event_eta = np.concatenate([f_out['Tower/eta'][:], f_out['Track/eta'][:], f_out['Lepton/eta'][:]], axis=1)\n",
    "        event_phi = np.concatenate([f_out['Tower/phi'][:], f_out['Track/phi'][:], f_out['Lepton/phi'][:]], axis=1)\n",
    "\n",
    "        _, _, new_phi = phi_shift_and_flipping(event_pt, event_eta, event_phi)\n",
    "\n",
    "        f_out['Tower/phi'][:] = new_phi[:, :MAX_CONSTI['Tower']]\n",
    "        f_out['Track/phi'][:] = new_phi[:, MAX_CONSTI['Tower']:MAX_CONSTI['Tower']+MAX_CONSTI['Track']]\n",
    "        f_out['Lepton/phi'][:] = new_phi[:, MAX_CONSTI['Tower']+MAX_CONSTI['Track']:]"
   ]
  },
  {
   "cell_type": "code",
   "execution_count": 3,
   "metadata": {},
   "outputs": [
    {
     "name": "stdout",
     "output_type": "stream",
     "text": [
      "data/pre-processing/ppZp-03.h5\n",
      "data/pre-processing/ppWW-03.h5\n",
      "data/pre-processing/ppZZ-03.h5\n"
     ]
    }
   ],
   "source": [
    "for name in ['ppZp-03', 'ppWW-03', 'ppZZ-03']:\n",
    "    h5_path = f'./data/{name}.h5'\n",
    "    out_h5 = f'./data/pre-processing/{name}.h5'\n",
    "    to_event_image_h5(h5_path, out_h5)"
   ]
  },
  {
   "cell_type": "markdown",
   "metadata": {},
   "source": [
    "# Pixelation"
   ]
  },
  {
   "cell_type": "code",
   "execution_count": 4,
   "metadata": {},
   "outputs": [
    {
     "name": "stdout",
     "output_type": "stream",
     "text": [
      "python pixelation.py data/pre-processing/ppZp-03.h5 data/pre-processing/40x40/ppZp-03.npy 40 &\n",
      "python pixelation.py data/pre-processing/ppWW-03.h5 data/pre-processing/40x40/ppWW-03.npy 40 &\n",
      "python pixelation.py data/pre-processing/ppZZ-03.h5 data/pre-processing/40x40/ppZZ-03.npy 40 &\n"
     ]
    }
   ],
   "source": [
    "res = 40\n",
    "h5_dir = Path('./data/pre-processing')\n",
    "npy_dir = Path(f'./data/pre-processing/{res}x{res}')\n",
    "\n",
    "# create output directory\n",
    "npy_dir.mkdir(parents=True, exist_ok=True)\n",
    "\n",
    "for name in ['ppZp-03', 'ppWW-03', 'ppZZ-03']:\n",
    "    h5_path = h5_dir / f'{name}.h5'\n",
    "    npy_path = npy_dir / f'{name}.npy'\n",
    "    cmd = f'python pixelation.py {h5_path} {npy_path} {res} &'\n",
    "    print(cmd)"
   ]
  }
 ],
 "metadata": {
  "kernelspec": {
   "display_name": "jupyter",
   "language": "python",
   "name": "python3"
  },
  "language_info": {
   "codemirror_mode": {
    "name": "ipython",
    "version": 3
   },
   "file_extension": ".py",
   "mimetype": "text/x-python",
   "name": "python",
   "nbconvert_exporter": "python",
   "pygments_lexer": "ipython3",
   "version": "3.8.16"
  }
 },
 "nbformat": 4,
 "nbformat_minor": 2
}
